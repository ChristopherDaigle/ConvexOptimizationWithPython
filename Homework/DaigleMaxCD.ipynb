{
 "cells": [
  {
   "cell_type": "markdown",
   "metadata": {},
   "source": [
    "# Chris Daigle\n",
    "## Convex Optimization - Prof. Morand\n",
    "### Assignment: Maximize and plot Cobb-Douglas Production Function"
   ]
  },
  {
   "cell_type": "code",
   "execution_count": 41,
   "metadata": {},
   "outputs": [],
   "source": [
    "import cvxpy as cvx\n",
    "import numpy as np\n",
    "import matplotlib.pyplot as plt"
   ]
  },
  {
   "cell_type": "code",
   "execution_count": 51,
   "metadata": {},
   "outputs": [],
   "source": [
    "# Output(s)\n",
    "y = cvx.Variable() # Product\n",
    "\n",
    "# Inputs to production\n",
    "k = cvx.Variable() # Capital\n",
    "l = cvx.Variable() # Labor\n",
    "\n",
    "# Parameters\n",
    "A = cvx.Parameter(nonneg=True, value=1) # Factor productivity\n",
    "# alpha = cvx.Parameter(nonneg=True, value=0.5) # Elasticity\n",
    "alpha = 0.5\n",
    "beta = 1 - alpha\n",
    "\n",
    "# Constraints\n",
    "constraints = [0 <= k, 0 <= l, y <= A * (k ** (alpha) * l ** (beta))]"
   ]
  },
  {
   "cell_type": "code",
   "execution_count": 55,
   "metadata": {},
   "outputs": [],
   "source": [
    "# Cobb-Douglas Production\n",
    "obj = cvx.Maximize(A * (k**(alpha) * l**(beta)))"
   ]
  },
  {
   "cell_type": "code",
   "execution_count": 56,
   "metadata": {},
   "outputs": [],
   "source": [
    "# Form and solve problem\n",
    "prob = cvx.Problem(obj, constraints)"
   ]
  },
  {
   "cell_type": "code",
   "execution_count": 57,
   "metadata": {},
   "outputs": [
    {
     "name": "stdout",
     "output_type": "stream",
     "text": [
      "status: None\n",
      "optimal value:  None\n",
      "optimal var:  None None\n"
     ]
    }
   ],
   "source": [
    "# Results\n",
    "print(\"status:\", prob.status)\n",
    "print(\"optimal value: \", prob.value)\n",
    "print(\"optimal var: \", k.value, l.value)"
   ]
  },
  {
   "cell_type": "code",
   "execution_count": null,
   "metadata": {},
   "outputs": [],
   "source": []
  }
 ],
 "metadata": {
  "kernelspec": {
   "display_name": "Python 3",
   "language": "python",
   "name": "python3"
  },
  "language_info": {
   "codemirror_mode": {
    "name": "ipython",
    "version": 3
   },
   "file_extension": ".py",
   "mimetype": "text/x-python",
   "name": "python",
   "nbconvert_exporter": "python",
   "pygments_lexer": "ipython3",
   "version": "3.6.6"
  }
 },
 "nbformat": 4,
 "nbformat_minor": 2
}
