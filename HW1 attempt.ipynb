{
 "cells": [
  {
   "cell_type": "code",
   "execution_count": 90,
   "metadata": {},
   "outputs": [
    {
     "name": "stdout",
     "output_type": "stream",
     "text": [
      "Please enter an integer: 4\n"
     ]
    },
    {
     "ename": "TypeError",
     "evalue": "unsupported operand type(s) for %: 'list' and 'int'",
     "output_type": "error",
     "traceback": [
      "\u001b[0;31m---------------------------------------------------------------------------\u001b[0m",
      "\u001b[0;31mTypeError\u001b[0m                                 Traceback (most recent call last)",
      "\u001b[0;32m<ipython-input-90-d8111f3e97cf>\u001b[0m in \u001b[0;36m<module>\u001b[0;34m()\u001b[0m\n\u001b[1;32m      6\u001b[0m \u001b[0;32mfor\u001b[0m \u001b[0mi\u001b[0m \u001b[0;32min\u001b[0m \u001b[0mrange\u001b[0m\u001b[0;34m(\u001b[0m\u001b[0;36m0\u001b[0m\u001b[0;34m,\u001b[0m\u001b[0;36m19\u001b[0m\u001b[0;34m)\u001b[0m\u001b[0;34m:\u001b[0m\u001b[0;34m\u001b[0m\u001b[0m\n\u001b[1;32m      7\u001b[0m     \u001b[0;32mif\u001b[0m \u001b[0mw\u001b[0m \u001b[0;34m==\u001b[0m \u001b[0;34m'even'\u001b[0m\u001b[0;34m:\u001b[0m\u001b[0;34m\u001b[0m\u001b[0m\n\u001b[0;32m----> 8\u001b[0;31m         \u001b[0;32mif\u001b[0m \u001b[0my\u001b[0m\u001b[0;34m[\u001b[0m\u001b[0mi\u001b[0m\u001b[0;34m]\u001b[0m\u001b[0;34m%\u001b[0m\u001b[0;36m2\u001b[0m\u001b[0;34m==\u001b[0m\u001b[0;36m0\u001b[0m\u001b[0;34m:\u001b[0m\u001b[0;34m\u001b[0m\u001b[0m\n\u001b[0m\u001b[1;32m      9\u001b[0m             \u001b[0my\u001b[0m\u001b[0;34m[\u001b[0m\u001b[0;34m-\u001b[0m\u001b[0mi\u001b[0m\u001b[0;34m]\u001b[0m \u001b[0;34m=\u001b[0m \u001b[0my\u001b[0m\u001b[0;34m\u001b[0m\u001b[0m\n\u001b[1;32m     10\u001b[0m \u001b[0;34m\u001b[0m\u001b[0m\n",
      "\u001b[0;31mTypeError\u001b[0m: unsupported operand type(s) for %: 'list' and 'int'"
     ]
    }
   ],
   "source": [
    "x = int(input('Please enter an integer: '))\n",
    "y = list(range(x,x+20))\n",
    "w = 'even'\n",
    "if x%2 == 1:\n",
    "    w = 'odd'\n",
    "for i in range(0,19):\n",
    "    if w == 'even':\n",
    "        if y[i]%2==0:\n",
    "            y[-i] = y\n",
    "    \n",
    "print('{0} is {1} and the next 9 integers of the same parity are {2}'.format(x,w,y))\n"
   ]
  },
  {
   "cell_type": "code",
   "execution_count": 95,
   "metadata": {},
   "outputs": [
    {
     "data": {
      "text/plain": [
       "[[...],\n",
       " 5,\n",
       " 6,\n",
       " 7,\n",
       " 8,\n",
       " 9,\n",
       " 10,\n",
       " 11,\n",
       " 12,\n",
       " 13,\n",
       " [...],\n",
       " 15,\n",
       " [...],\n",
       " 17,\n",
       " [...],\n",
       " 19,\n",
       " [...],\n",
       " 21,\n",
       " [...],\n",
       " 23]"
      ]
     },
     "execution_count": 95,
     "metadata": {},
     "output_type": "execute_result"
    }
   ],
   "source": [
    "y"
   ]
  },
  {
   "cell_type": "code",
   "execution_count": 15,
   "metadata": {},
   "outputs": [
    {
     "data": {
      "text/plain": [
       "1"
      ]
     },
     "execution_count": 15,
     "metadata": {},
     "output_type": "execute_result"
    }
   ],
   "source": [
    "z = [1, 2, 3]\n",
    "z[0]"
   ]
  },
  {
   "cell_type": "code",
   "execution_count": 19,
   "metadata": {},
   "outputs": [
    {
     "data": {
      "text/plain": [
       "2"
      ]
     },
     "execution_count": 19,
     "metadata": {},
     "output_type": "execute_result"
    }
   ],
   "source": [
    "x = range(5,7)\n",
    "len(x)"
   ]
  },
  {
   "cell_type": "code",
   "execution_count": 68,
   "metadata": {},
   "outputs": [
    {
     "name": "stdout",
     "output_type": "stream",
     "text": [
      "Please enter an integer: 4\n",
      "True is an odd number and the next 9 values of the same parity are odd = 1\n",
      "True is an odd number and the next 9 values of the same parity are odd = 2\n",
      "True is an odd number and the next 9 values of the same parity are odd = 3\n",
      "True is an odd number and the next 9 values of the same parity are odd = 4\n",
      "True is an odd number and the next 9 values of the same parity are odd = 5\n",
      "True is an odd number and the next 9 values of the same parity are odd = 6\n",
      "True is an odd number and the next 9 values of the same parity are odd = 7\n",
      "True is an odd number and the next 9 values of the same parity are odd = 8\n",
      "True is an odd number and the next 9 values of the same parity are odd = 9\n",
      "True is an odd number and the next 9 values of the same parity are odd = 10\n",
      "True is an odd number and the next 9 values of the same parity are odd = 11\n",
      "True is an odd number and the next 9 values of the same parity are odd = 12\n",
      "True is an odd number and the next 9 values of the same parity are odd = 13\n",
      "True is an odd number and the next 9 values of the same parity are odd = 14\n",
      "True is an odd number and the next 9 values of the same parity are odd = 15\n",
      "True is an odd number and the next 9 values of the same parity are odd = 16\n",
      "True is an odd number and the next 9 values of the same parity are odd = 17\n",
      "True is an odd number and the next 9 values of the same parity are odd = 18\n",
      "True is an odd number and the next 9 values of the same parity are odd = 19\n",
      "True is an odd number and the next 9 values of the same parity are odd = 20\n"
     ]
    }
   ],
   "source": [
    "a = float(input('Please enter an integer: ')).is_integer()\n",
    "x = 'even'\n",
    "if (a%2 == 1) is True:\n",
    "    x = 'odd'\n",
    "for i in range(a,a+20):\n",
    "    print('{0} is an {1} number and the next 9 values of the same parity are {1} = {2}'.format(a, x, a*i))"
   ]
  },
  {
   "cell_type": "code",
   "execution_count": 67,
   "metadata": {},
   "outputs": [
    {
     "name": "stdout",
     "output_type": "stream",
     "text": [
      "number: 4\n",
      "Negative changed to zero\n"
     ]
    }
   ],
   "source": [
    "x = float(input('number: '))\n",
    "if x > 0:\n",
    "    x = 0\n",
    "    print('Negative changed to zero')\n",
    "elif x == 0:\n",
    "        print('Zero')\n",
    "elif x == 1:\n",
    "    print('Single')\n",
    "else:\n",
    "    print('More')"
   ]
  },
  {
   "cell_type": "code",
   "execution_count": 56,
   "metadata": {},
   "outputs": [
    {
     "data": {
      "text/plain": [
       "0"
      ]
     },
     "execution_count": 56,
     "metadata": {},
     "output_type": "execute_result"
    }
   ],
   "source": [
    "4%2"
   ]
  },
  {
   "cell_type": "code",
   "execution_count": null,
   "metadata": {},
   "outputs": [],
   "source": []
  }
 ],
 "metadata": {
  "kernelspec": {
   "display_name": "Python 3",
   "language": "python",
   "name": "python3"
  },
  "language_info": {
   "codemirror_mode": {
    "name": "ipython",
    "version": 3
   },
   "file_extension": ".py",
   "mimetype": "text/x-python",
   "name": "python",
   "nbconvert_exporter": "python",
   "pygments_lexer": "ipython3",
   "version": "3.6.5"
  }
 },
 "nbformat": 4,
 "nbformat_minor": 2
}
